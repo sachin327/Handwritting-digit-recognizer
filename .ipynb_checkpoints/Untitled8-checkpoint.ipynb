{
 "cells": [
  {
   "cell_type": "code",
   "execution_count": 1,
   "metadata": {},
   "outputs": [],
   "source": [
    "from PIL import Image\n",
    "from matplotlib import pyplot as plt\n",
    "from sklearn.datasets import fetch_openml\n",
    "import numpy as np"
   ]
  },
  {
   "cell_type": "code",
   "execution_count": 2,
   "metadata": {},
   "outputs": [],
   "source": [
    "mnist = fetch_openml('mnist_784')"
   ]
  },
  {
   "cell_type": "code",
   "execution_count": 3,
   "metadata": {},
   "outputs": [],
   "source": [
    "x,y = mnist['data'],mnist['target']"
   ]
  },
  {
   "cell_type": "code",
   "execution_count": 6,
   "metadata": {},
   "outputs": [],
   "source": [
    "y=y.reshape(70000,1)"
   ]
  },
  {
   "cell_type": "code",
   "execution_count": 219,
   "metadata": {},
   "outputs": [
    {
     "data": {
      "text/plain": [
       "(70000, 1)"
      ]
     },
     "execution_count": 219,
     "metadata": {},
     "output_type": "execute_result"
    }
   ],
   "source": [
    "y.shape"
   ]
  },
  {
   "cell_type": "code",
   "execution_count": 220,
   "metadata": {},
   "outputs": [
    {
     "data": {
      "text/plain": [
       "(70000, 784)"
      ]
     },
     "execution_count": 220,
     "metadata": {},
     "output_type": "execute_result"
    }
   ],
   "source": [
    "x.shape"
   ]
  },
  {
   "cell_type": "code",
   "execution_count": 221,
   "metadata": {},
   "outputs": [],
   "source": [
    "x_train=x[0:60000]"
   ]
  },
  {
   "cell_type": "code",
   "execution_count": 222,
   "metadata": {},
   "outputs": [
    {
     "data": {
      "text/plain": [
       "(60000, 784)"
      ]
     },
     "execution_count": 222,
     "metadata": {},
     "output_type": "execute_result"
    }
   ],
   "source": [
    "x_train.shape"
   ]
  },
  {
   "cell_type": "code",
   "execution_count": 223,
   "metadata": {},
   "outputs": [],
   "source": [
    "y_train=y[0:60000]"
   ]
  },
  {
   "cell_type": "code",
   "execution_count": 224,
   "metadata": {},
   "outputs": [
    {
     "data": {
      "text/plain": [
       "(60000, 1)"
      ]
     },
     "execution_count": 224,
     "metadata": {},
     "output_type": "execute_result"
    }
   ],
   "source": [
    "y_train.shape"
   ]
  },
  {
   "cell_type": "code",
   "execution_count": 225,
   "metadata": {},
   "outputs": [],
   "source": [
    "x_test=x[60000:70000]"
   ]
  },
  {
   "cell_type": "code",
   "execution_count": 226,
   "metadata": {},
   "outputs": [
    {
     "data": {
      "text/plain": [
       "(10000, 784)"
      ]
     },
     "execution_count": 226,
     "metadata": {},
     "output_type": "execute_result"
    }
   ],
   "source": [
    "x_test.shape"
   ]
  },
  {
   "cell_type": "code",
   "execution_count": 227,
   "metadata": {},
   "outputs": [],
   "source": [
    "y_test=y[60000:70000]"
   ]
  },
  {
   "cell_type": "code",
   "execution_count": 228,
   "metadata": {},
   "outputs": [
    {
     "data": {
      "text/plain": [
       "(10000, 1)"
      ]
     },
     "execution_count": 228,
     "metadata": {},
     "output_type": "execute_result"
    }
   ],
   "source": [
    "y_test.shape"
   ]
  },
  {
   "cell_type": "code",
   "execution_count": 229,
   "metadata": {},
   "outputs": [],
   "source": [
    "x_train=x_train/255"
   ]
  },
  {
   "cell_type": "code",
   "execution_count": 230,
   "metadata": {},
   "outputs": [],
   "source": [
    "mini_batches=list()\n",
    "for i in range(120):\n",
    "    mini_batches.append((x_train[i*500:(i+1)*500],y_train[i*500:(i+1)*500]))"
   ]
  },
  {
   "cell_type": "code",
   "execution_count": 231,
   "metadata": {},
   "outputs": [],
   "source": [
    "y_test=y_test.T"
   ]
  },
  {
   "cell_type": "code",
   "execution_count": 232,
   "metadata": {},
   "outputs": [],
   "source": [
    "x_test=x_test.T"
   ]
  },
  {
   "cell_type": "code",
   "execution_count": 233,
   "metadata": {},
   "outputs": [],
   "source": [
    "x_test=x_test/255"
   ]
  },
  {
   "cell_type": "code",
   "execution_count": 234,
   "metadata": {},
   "outputs": [
    {
     "data": {
      "text/plain": [
       "(1, 10000)"
      ]
     },
     "execution_count": 234,
     "metadata": {},
     "output_type": "execute_result"
    }
   ],
   "source": [
    "y_test.shape"
   ]
  },
  {
   "cell_type": "code",
   "execution_count": 235,
   "metadata": {},
   "outputs": [
    {
     "data": {
      "text/plain": [
       "(784, 10000)"
      ]
     },
     "execution_count": 235,
     "metadata": {},
     "output_type": "execute_result"
    }
   ],
   "source": [
    "x_test.shape"
   ]
  },
  {
   "cell_type": "code",
   "execution_count": 2,
   "metadata": {},
   "outputs": [],
   "source": [
    "def sigmoid(arr):\n",
    "    d=1/(1+np.exp(-arr))\n",
    "    return d"
   ]
  },
  {
   "cell_type": "code",
   "execution_count": 237,
   "metadata": {},
   "outputs": [],
   "source": [
    "def initialize_parameters(n_x, n_h, n_y):\n",
    "    \"\"\"\n",
    "    Argument:\n",
    "    n_x -- size of the input layer\n",
    "    n_h -- size of the hidden layer\n",
    "    n_y -- size of the output layer\n",
    "    \n",
    "    Returns:\n",
    "    params -- python dictionary containing your parameters:\n",
    "                    W1 -- weight matrix of shape (n_h, n_x)\n",
    "                    b1 -- bias vector of shape (n_h, 1)\n",
    "                    W2 -- weight matrix of shape (n_y, n_h)\n",
    "                    b2 -- bias vector of shape (n_y, 1)\n",
    "    \"\"\"\n",
    "    \n",
    "    #np.random.seed(2) # we set up a seed so that your output matches ours although the initialization is random.\n",
    "    \n",
    "    ### START CODE HERE ### (≈ 4 lines of code)\n",
    "    W1 = np.random.randn(n_h,n_x)*0.001\n",
    "    b1 = np.zeros((n_h,1))\n",
    "    W2 = np.random.randn(n_y,n_h)*0.001\n",
    "    b2 = np.zeros((n_y,1))\n",
    "    ### END CODE HERE ###\n",
    "    \n",
    "    \n",
    "    \n",
    "    parameters = {\"W1\": W1,\n",
    "                  \"b1\": b1,\n",
    "                  \"W2\": W2,\n",
    "                  \"b2\": b2}\n",
    "    \n",
    "    return parameters"
   ]
  },
  {
   "cell_type": "code",
   "execution_count": 3,
   "metadata": {},
   "outputs": [],
   "source": [
    "def forward_propagation(X, parameters):\n",
    "    \"\"\"\n",
    "    Argument:\n",
    "    X -- input data of size (n_x, m)\n",
    "    parameters -- python dictionary containing your parameters (output of initialization function)\n",
    "    \n",
    "    Returns:\n",
    "    A2 -- The sigmoid output of the second activation\n",
    "    cache -- a dictionary containing \"Z1\", \"A1\", \"Z2\" and \"A2\"\n",
    "    \"\"\"\n",
    "    # Retrieve each parameter from the dictionary \"parameters\"\n",
    "    ### START CODE HERE ### (≈ 4 lines of code)\n",
    "    W1=parameters[\"W1\"]\n",
    "    b1=parameters[\"b1\"]\n",
    "    W2=parameters[\"W2\"]\n",
    "    b2=parameters[\"b2\"]\n",
    "    \n",
    "    ### END CODE HERE ###\n",
    "    \n",
    "    # Implement Forward Propagation to calculate A2 (probabilities)\n",
    "    ### START CODE HERE ### (≈ 4 lines of code)\n",
    "    Z1 = np.dot(W1,X)+b1\n",
    "    A1 = np.tanh(Z1)\n",
    "    Z2 = np.dot(W2,A1)+b2\n",
    "    A2 = sigmoid(Z2)\n",
    "    ### END CODE HERE ###\n",
    "    \n",
    "    \n",
    "    \n",
    "    cache = {\"Z1\": Z1,\n",
    "             \"A1\": A1,\n",
    "             \"Z2\": Z2,\n",
    "             \"A2\": A2}\n",
    "    \n",
    "    return A2, cache"
   ]
  },
  {
   "cell_type": "code",
   "execution_count": 239,
   "metadata": {},
   "outputs": [],
   "source": [
    "def compute_cost(A2, Y, parameters,lambda_):\n",
    "    \"\"\"\n",
    "    Computes the cross-entropy cost given in equation (13)\n",
    "    \n",
    "    Arguments:\n",
    "    A2 -- The sigmoid output of the second activation, of shape (1, number of examples)\n",
    "    Y -- \"true\" labels vector of shape (1, number of examples)\n",
    "    parameters -- python dictionary containing your parameters W1, b1, W2 and b2\n",
    "    [Note that the parameters argument is not used in this function, \n",
    "    but the auto-grader currently expects this parameter.\n",
    "    Future version of this notebook will fix both the notebook \n",
    "    and the auto-grader so that `parameters` is not needed.\n",
    "    For now, please include `parameters` in the function signature,\n",
    "    and also when invoking this function.]\n",
    "    \n",
    "    Returns:\n",
    "    cost -- cross-entropy cost given equation (13)\n",
    "    \n",
    "    \"\"\"\n",
    "    W1=parameters['W1']\n",
    "    W2=parameters['W2']\n",
    "    m = Y.shape[1] # number of example\n",
    "    # Compute the cross-entropy cost\n",
    "    ### START CODE HERE ### (≈ 2 lines of code)\n",
    "    cost = -1/m *np.sum(np.sum(((Y*np.log(A2)+(1-Y)*np.log(1-A2))))) + (lambda_/(2*m))*(np.sum(np.sum(W1*W1))+np.sum(np.sum(W2*W2)))    \n",
    "                                                                        \n",
    "    '''cost = float(np.squeeze(cost))  # makes sure cost is the dimension we expect. \n",
    "                                    # E.g., turns [[17]] into 17 \n",
    "    assert(isinstance(cost, float))'''\n",
    "    \n",
    "    return cost"
   ]
  },
  {
   "cell_type": "code",
   "execution_count": 240,
   "metadata": {},
   "outputs": [],
   "source": [
    "def backward_propagation(parameters, cache, X, Y,lambda_):\n",
    "    \"\"\"\n",
    "    Implement the backward propagation using the instructions above.\n",
    "    \n",
    "    Arguments:\n",
    "    parameters -- python dictionary containing our parameters \n",
    "    cache -- a dictionary containing \"Z1\", \"A1\", \"Z2\" and \"A2\".\n",
    "    X -- input data of shape (2, number of examples)\n",
    "    Y -- \"true\" labels vector of shape (1, number of examples)\n",
    "    \n",
    "    Returns:\n",
    "    grads -- python dictionary containing your gradients with respect to different parameters\n",
    "    \"\"\"\n",
    "    m = X.shape[1]\n",
    "    \n",
    "    # First, retrieve W1 and W2 from the dictionary \"parameters\".\n",
    "    ### START CODE HERE ### (≈ 2 lines of code)\n",
    "    W1=parameters[\"W1\"]\n",
    "    W2=parameters[\"W2\"]\n",
    "    ### END CODE HERE ###\n",
    "        \n",
    "    # Retrieve also A1 and A2 from dictionary \"cache\".\n",
    "    ### START CODE HERE ### (≈ 2 lines of code)\n",
    "    A1 = cache[\"A1\"]\n",
    "    A2 = cache[\"A2\"]\n",
    "    ### END CODE HERE ###\n",
    "    \n",
    "    # Backward propagation: calculate dW1, db1, dW2, db2. \n",
    "    ### START CODE HERE ### (≈ 6 lines of code, corresponding to 6 equations on slide above)\n",
    "    \n",
    "    dZ2 = A2-Y;\n",
    "    dW2 = 1/m *np.dot(dZ2,A1.T) +(lambda_/m)*W2\n",
    "    db2 = 1/m *np.sum(dZ2,axis=1,keepdims=True)\n",
    "    dZ1 = np.dot(W2.T,dZ2)*(1-A1*A1)\n",
    "    dW1 = 1/m *np.dot(dZ1,X.T) +(lambda_/m)*W1\n",
    "    db1 =1/m *np.sum(dZ1,axis=1,keepdims=True)\n",
    "    ### END CODE HERE ###\n",
    "    \n",
    "    grads = {\"dW1\": dW1,\n",
    "             \"db1\": db1,\n",
    "             \"dW2\": dW2,\n",
    "             \"db2\": db2,}\n",
    "    \n",
    "    return grads"
   ]
  },
  {
   "cell_type": "code",
   "execution_count": 241,
   "metadata": {},
   "outputs": [],
   "source": [
    "def update_parameters(parameters, grads, learning_rate = 0.1):\n",
    "    \"\"\"\n",
    "    Updates parameters using the gradient descent update rule given above\n",
    "    \n",
    "    Arguments:\n",
    "    parameters -- python dictionary containing your parameters \n",
    "    grads -- python dictionary containing your gradients \n",
    "    \n",
    "    Returns:\n",
    "    parameters -- python dictionary containing your updated parameters \n",
    "    \"\"\"\n",
    "    # Retrieve each parameter from the dictionary \"parameters\"\n",
    "    ### START CODE HERE ### (≈ 4 lines of code)\n",
    "    W1=parameters[\"W1\"]\n",
    "    W2=parameters[\"W2\"]\n",
    "    b1=parameters[\"b1\"]\n",
    "    b2=parameters[\"b2\"]\n",
    "    \n",
    "    ### END CODE HERE ###\n",
    "    \n",
    "    # Retrieve each gradient from the dictionary \"grads\"\n",
    "    ### START CODE HERE ### (≈ 4 lines of code)\n",
    "    dW1 = grads[\"dW1\"]\n",
    "    db1 = grads[\"db1\"]\n",
    "    dW2 = grads[\"dW2\"]\n",
    "    db2 = grads[\"db2\"]\n",
    "    \n",
    "    ## END CODE HERE ###\n",
    "    \n",
    "    # Update rule for each parameter\n",
    "    ### START CODE HERE ### (≈ 4 lines of code)\n",
    "    W1 = W1-learning_rate*dW1\n",
    "    b1 = b1-learning_rate*db1\n",
    "    W2 = W2-learning_rate*dW2\n",
    "    b2 = b2-learning_rate*db2\n",
    "    \n",
    "    ### END CODE HERE ###\n",
    "    \n",
    "    parameters = {\"W1\": W1,\n",
    "                  \"b1\": b1,\n",
    "                  \"W2\": W2,\n",
    "                  \"b2\": b2}\n",
    "    \n",
    "    return parameters"
   ]
  },
  {
   "cell_type": "code",
   "execution_count": 288,
   "metadata": {},
   "outputs": [],
   "source": [
    "# GRADED FUNCTION: initialize_adam\n",
    "\n",
    "def initialize_adam(parameters) :\n",
    "    \"\"\"\n",
    "    Initializes v and s as two python dictionaries with:\n",
    "                - keys: \"dW1\", \"db1\", ..., \"dWL\", \"dbL\" \n",
    "                - values: numpy arrays of zeros of the same shape as the corresponding gradients/parameters.\n",
    "    \n",
    "    Arguments:\n",
    "    parameters -- python dictionary containing your parameters.\n",
    "                    parameters[\"W\" + str(l)] = Wl\n",
    "                    parameters[\"b\" + str(l)] = bl\n",
    "    \n",
    "    Returns: \n",
    "    v -- python dictionary that will contain the exponentially weighted average of the gradient.\n",
    "                    v[\"dW\" + str(l)] = ...\n",
    "                    v[\"db\" + str(l)] = ...\n",
    "    s -- python dictionary that will contain the exponentially weighted average of the squared gradient.\n",
    "                    s[\"dW\" + str(l)] = ...\n",
    "                    s[\"db\" + str(l)] = ...\n",
    "\n",
    "    \"\"\"\n",
    "    \n",
    "    #L = len(parameters) // 2 # number of layers in the neural networks\n",
    "    v = {}\n",
    "    s = {}\n",
    "    \n",
    "    # Initialize v, s. Input: \"parameters\". Outputs: \"v, s\".\n",
    "    for l in range(2):\n",
    "    ### START CODE HERE ### (approx. 4 lines)\n",
    "        v[\"dW\" + str(l+1)] = np.zeros(parameters[\"W\" + str(l+1)].shape)\n",
    "        v[\"db\" + str(l+1)] = np.zeros(parameters[\"b\" + str(l+1)].shape)\n",
    "        s[\"dW\" + str(l+1)] = np.zeros(parameters[\"W\" + str(l+1)].shape)\n",
    "        s[\"db\" + str(l+1)] = np.zeros(parameters[\"b\" + str(l+1)].shape)\n",
    "    ### END CODE HERE ###\n",
    "    \n",
    "    return v, s"
   ]
  },
  {
   "cell_type": "code",
   "execution_count": 289,
   "metadata": {},
   "outputs": [],
   "source": [
    "# GRADED FUNCTION: update_parameters_with_adam\n",
    "\n",
    "def update_parameters_with_adam(parameters, grads, v, s, t, learning_rate = 0.01,\n",
    "                                beta1 = 0.9, beta2 = 0.999,  epsilon = 1e-8):\n",
    "    \"\"\"\n",
    "    Update parameters using Adam\n",
    "    \n",
    "    Arguments:\n",
    "    parameters -- python dictionary containing your parameters:\n",
    "                    parameters['W' + str(l)] = Wl\n",
    "                    parameters['b' + str(l)] = bl\n",
    "    grads -- python dictionary containing your gradients for each parameters:\n",
    "                    grads['dW' + str(l)] = dWl\n",
    "                    grads['db' + str(l)] = dbl\n",
    "    v -- Adam variable, moving average of the first gradient, python dictionary\n",
    "    s -- Adam variable, moving average of the squared gradient, python dictionary\n",
    "    learning_rate -- the learning rate, scalar.\n",
    "    beta1 -- Exponential decay hyperparameter for the first moment estimates \n",
    "    beta2 -- Exponential decay hyperparameter for the second moment estimates \n",
    "    epsilon -- hyperparameter preventing division by zero in Adam updates\n",
    "\n",
    "    Returns:\n",
    "    parameters -- python dictionary containing your updated parameters \n",
    "    v -- Adam variable, moving average of the first gradient, python dictionary\n",
    "    s -- Adam variable, moving average of the squared gradient, python dictionary\n",
    "    \"\"\"\n",
    "    \n",
    "    #L = len(parameters) // 2                 # number of layers in the neural networks\n",
    "    v_corrected = {}                         # Initializing first moment estimate, python dictionary\n",
    "    s_corrected = {}                         # Initializing second moment estimate, python dictionary\n",
    "    \n",
    "    # Perform Adam update on all parameters\n",
    "    for l in range(2):\n",
    "        # Moving average of the gradients. Inputs: \"v, grads, beta1\". Output: \"v\".\n",
    "        ### START CODE HERE ### (approx. 2 lines)\n",
    "        v[\"dW\" + str(l+1)] = beta1*v[\"dW\" + str(l+1)]+(1-beta1)*grads['dW' + str(l+1)]\n",
    "        v[\"db\" + str(l+1)] = beta1*v[\"db\" + str(l+1)]+(1-beta1)*grads['db' + str(l+1)]\n",
    "        ### END CODE HERE ###\n",
    "\n",
    "        # Compute bias-corrected first moment estimate. Inputs: \"v, beta1, t\". Output: \"v_corrected\".\n",
    "        ### START CODE HERE ### (approx. 2 lines)\n",
    "        v_corrected[\"dW\" + str(l+1)] = v[\"dW\" + str(l+1)]/(1-beta1**t)\n",
    "        v_corrected[\"db\" + str(l+1)] = v[\"db\" + str(l+1)]/(1-beta1**t)\n",
    "        ### END CODE HERE ###\n",
    "\n",
    "        # Moving average of the squared gradients. Inputs: \"s, grads, beta2\". Output: \"s\".\n",
    "        ### START CODE HERE ### (approx. 2 lines)\n",
    "        s[\"dW\" + str(l+1)] = beta2*s[\"dW\" + str(l+1)]+(1-beta2)*grads['dW' + str(l+1)]*grads['dW' + str(l+1)]\n",
    "        s[\"db\" + str(l+1)] = beta2*s[\"db\" + str(l+1)]+(1-beta2)*grads['db' + str(l+1)]*grads['db' + str(l+1)]\n",
    "        ### END CODE HERE ###\n",
    "\n",
    "        # Compute bias-corrected second raw moment estimate. Inputs: \"s, beta2, t\". Output: \"s_corrected\".\n",
    "        ### START CODE HERE ### (approx. 2 lines)\n",
    "        s_corrected[\"dW\" + str(l+1)] = s[\"dW\" + str(l+1)]/(1-beta2**t)\n",
    "        s_corrected[\"db\" + str(l+1)] = s[\"db\" + str(l+1)]/(1-beta2**t)\n",
    "        ### END CODE HERE ###\n",
    "\n",
    "        # Update parameters. Inputs: \"parameters, learning_rate, v_corrected, s_corrected, epsilon\". Output: \"parameters\".\n",
    "        ### START CODE HERE ### (approx. 2 lines)\n",
    "        parameters[\"W\" + str(l+1)] = parameters[\"W\" + str(l+1)]-learning_rate*(v_corrected[\"dW\" + str(l+1)]/(s_corrected[\"dW\" + str(l+1)]**(1/2)+epsilon))\n",
    "        parameters[\"b\" + str(l+1)] = parameters[\"b\" + str(l+1)]-learning_rate*(v_corrected[\"db\" + str(l+1)]/(s_corrected[\"db\" + str(l+1)]**(1/2)+epsilon))\n",
    "        ### END CODE HERE ###\n",
    "\n",
    "    return parameters, v, s"
   ]
  },
  {
   "cell_type": "code",
   "execution_count": 265,
   "metadata": {},
   "outputs": [],
   "source": [
    "def nn_model(mini_batches, n_h, num_iterations = 1000, print_cost=False,lambda_=1.2,learning_rate = 0.1):\n",
    "    \"\"\"\n",
    "    Arguments:\n",
    "    X -- dataset of shape (2, number of examples)\n",
    "    Y -- labels of shape (1, number of examples)\n",
    "    n_h -- size of the hidden layer\n",
    "    num_iterations -- Number of iterations in gradient descent loop\n",
    "    print_cost -- if True, print the cost every 1000 iterations\n",
    "    \n",
    "    Returns:\n",
    "    parameters -- parameters learnt by the model. They can then be used to predict.\n",
    "    \"\"\"\n",
    "    \n",
    "    \n",
    "    \n",
    "    # Initialize parameters\n",
    "    ### START CODE HERE ### (≈ 1 line of code)\n",
    "    parameters = initialize_parameters(784, n_h, 10)\n",
    "    ### END CODE HERE ###\n",
    "    \n",
    "    # Loop (gradient descent)\n",
    "    costs=[]\n",
    "    for i in range(0, num_iterations):\n",
    "        cost=0\n",
    "        for j in range(120):\n",
    "            \n",
    "            mini_batch_x,mini_batch_y=mini_batches[j]\n",
    "            ### START CODE HERE ### (≈ 4 lines of code)\n",
    "            # Forward propagation. Inputs: \"X, parameters\". Outputs: \"A2, cache\".\n",
    "            X=mini_batch_x.T\n",
    "            y=mini_batch_y.T\n",
    "            Y=np.zeros((10,500))\n",
    "            for jj in range (10):\n",
    "                for ii in range(500):\n",
    "                    if(y[0][ii]==str(jj)):\n",
    "                        Y[jj][ii]=1\n",
    "            A2, cache = forward_propagation(X, parameters)\n",
    "\n",
    "            # Cost function. Inputs: \"A2, Y, parameters\". Outputs: \"cost\".\n",
    "            cost += compute_cost(A2, Y, parameters,lambda_)\n",
    "\n",
    "            # Backpropagation. Inputs: \"parameters, cache, X, Y\". Outputs: \"grads\".\n",
    "            grads = backward_propagation(parameters, cache, X, Y,lambda_)\n",
    "\n",
    "            # Gradient descent parameter update. Inputs: \"parameters, grads\". Outputs: \"parameters\".\n",
    "            parameters = update_parameters(parameters, grads,learning_rate = 0.1)\n",
    "\n",
    "            ### END CODE HERE ###\n",
    "        costs.append(cost/60000)\n",
    "            # Print the cost every 1000 iterations\n",
    "        if print_cost and i % 5 == 0:\n",
    "            print (\"Cost after iteration :\",i,\" is \",cost)\n",
    "        if i%50==0:\n",
    "            learning_rate=learning_rate/2\n",
    "    plt.plot(costs)\n",
    "    plt.ylabel('cost')\n",
    "    plt.xlabel('iterations (x1,000)')\n",
    "    plt.title(\"Learning rate =\" + str(learning_rate))\n",
    "    return parameters"
   ]
  },
  {
   "cell_type": "code",
   "execution_count": 266,
   "metadata": {},
   "outputs": [
    {
     "name": "stdout",
     "output_type": "stream",
     "text": [
      "Cost after iteration : 0  is  3.21330734049018\n",
      "Cost after iteration : 5  is  1.5737072454013608\n",
      "Cost after iteration : 10  is  1.1387863257995063\n",
      "Cost after iteration : 15  is  0.9980830653220325\n",
      "Cost after iteration : 20  is  0.9265914169684832\n",
      "Cost after iteration : 25  is  0.878734119226452\n",
      "Cost after iteration : 30  is  0.861756047883463\n",
      "Cost after iteration : 35  is  0.8552211675616873\n",
      "Cost after iteration : 40  is  0.8513823016095828\n",
      "Cost after iteration : 45  is  0.8465425518019067\n",
      "Cost after iteration : 50  is  0.8308289987654307\n",
      "Cost after iteration : 55  is  0.812428401083317\n",
      "Cost after iteration : 60  is  0.7997467677398034\n",
      "Cost after iteration : 65  is  0.7892781481058989\n",
      "Cost after iteration : 70  is  0.7807873117624367\n",
      "Cost after iteration : 75  is  0.7748898547915806\n",
      "Cost after iteration : 80  is  0.7707148831843236\n",
      "Cost after iteration : 85  is  0.7671341261025164\n",
      "Cost after iteration : 90  is  0.763391787311869\n",
      "Cost after iteration : 95  is  0.7589007738587026\n",
      "Cost after iteration : 100  is  0.7531296334928086\n",
      "Cost after iteration : 105  is  0.7475579527843018\n",
      "Cost after iteration : 110  is  0.7433081110211159\n",
      "Cost after iteration : 115  is  0.7399781170825936\n",
      "Cost after iteration : 120  is  0.7369692810151816\n",
      "Cost after iteration : 125  is  0.7336322000813057\n",
      "Cost after iteration : 130  is  0.7294200221227968\n",
      "Cost after iteration : 135  is  0.7251504059421241\n",
      "Cost after iteration : 140  is  0.7217404450867351\n",
      "Cost after iteration : 145  is  0.7190527446633874\n",
      "Cost after iteration : 150  is  0.7167967041753892\n",
      "Cost after iteration : 155  is  0.714735297851522\n",
      "Cost after iteration : 160  is  0.7124863786171404\n",
      "Cost after iteration : 165  is  0.7102808779134298\n",
      "Cost after iteration : 170  is  0.70799841267698\n",
      "Cost after iteration : 175  is  0.7056117242297805\n",
      "Cost after iteration : 180  is  0.7035017126055099\n",
      "Cost after iteration : 185  is  0.7018445422547163\n",
      "Cost after iteration : 190  is  0.7004934878873749\n",
      "Cost after iteration : 195  is  0.699178453999769\n"
     ]
    },
    {
     "data": {
      "image/png": "[encoded data removed]",
      "text/plain": [
       "<Figure size 432x288 with 1 Axes>"
      ]
     },
     "metadata": {
      "needs_background": "light"
     },
     "output_type": "display_data"
    }
   ],
   "source": [
    "parameters = nn_model(mini_batches, 15, num_iterations=200, print_cost=True,lambda_=1.2,learning_rate = 0.3)"
   ]
  },
  {
   "cell_type": "code",
   "execution_count": 267,
   "metadata": {},
   "outputs": [],
   "source": [
    "A2, cache = forward_propagation(x_train.T, parameters)"
   ]
  },
  {
   "cell_type": "code",
   "execution_count": 268,
   "metadata": {},
   "outputs": [
    {
     "data": {
      "text/plain": [
       "array([[1.37700331e-02, 9.81509024e-01, 1.13531240e-03, ...,\n",
       "        1.41976993e-03, 6.43699967e-03, 7.23984440e-02],\n",
       "       [8.50981799e-04, 8.04250543e-05, 1.37947069e-03, ...,\n",
       "        6.62005606e-03, 1.15211133e-03, 2.72807087e-03],\n",
       "       [7.17173049e-04, 6.21995527e-03, 2.87569250e-02, ...,\n",
       "        4.67249303e-05, 9.08391799e-03, 3.59421945e-03],\n",
       "       ...,\n",
       "       [1.95333790e-01, 1.22384385e-02, 1.08918335e-01, ...,\n",
       "        5.69995488e-03, 4.19943430e-03, 9.20348970e-04],\n",
       "       [2.33523064e-04, 1.02045128e-02, 1.84992624e-03, ...,\n",
       "        1.72635114e-02, 1.16754181e-03, 9.11598348e-01],\n",
       "       [1.10309048e-03, 1.34746137e-03, 8.01033716e-03, ...,\n",
       "        3.63455994e-03, 5.52678069e-03, 7.83655641e-02]])"
      ]
     },
     "execution_count": 268,
     "metadata": {},
     "output_type": "execute_result"
    }
   ],
   "source": [
    "A2"
   ]
  },
  {
   "cell_type": "code",
   "execution_count": 269,
   "metadata": {},
   "outputs": [],
   "source": [
    "for j in range(10):\n",
    "    for i in range(60000):\n",
    "        if(A2[j][i]>=0.5):\n",
    "            A2[j][i]=1\n",
    "        else:\n",
    "            A2[j][i]=0"
   ]
  },
  {
   "cell_type": "code",
   "execution_count": 270,
   "metadata": {},
   "outputs": [],
   "source": [
    "A2=A2.T"
   ]
  },
  {
   "cell_type": "code",
   "execution_count": 271,
   "metadata": {},
   "outputs": [
    {
     "data": {
      "text/plain": [
       "(60000, 10)"
      ]
     },
     "execution_count": 271,
     "metadata": {},
     "output_type": "execute_result"
    }
   ],
   "source": [
    "A2.shape"
   ]
  },
  {
   "cell_type": "code",
   "execution_count": 272,
   "metadata": {},
   "outputs": [],
   "source": [
    "c=np.zeros((1,60000))\n",
    "for i in range(60000):\n",
    "    c[0][i]=np.where(A2[i] == np.amax(A2[i]))[0][0]"
   ]
  },
  {
   "cell_type": "code",
   "execution_count": 273,
   "metadata": {},
   "outputs": [
    {
     "data": {
      "text/plain": [
       "array([[3., 0., 4., ..., 5., 6., 8.]])"
      ]
     },
     "execution_count": 273,
     "metadata": {},
     "output_type": "execute_result"
    }
   ],
   "source": [
    "c"
   ]
  },
  {
   "cell_type": "code",
   "execution_count": 274,
   "metadata": {},
   "outputs": [
    {
     "data": {
      "text/plain": [
       "array([['5', '0', '4', ..., '5', '6', '8']], dtype=object)"
      ]
     },
     "execution_count": 274,
     "metadata": {},
     "output_type": "execute_result"
    }
   ],
   "source": [
    "y_train.T"
   ]
  },
  {
   "cell_type": "code",
   "execution_count": 275,
   "metadata": {},
   "outputs": [],
   "source": [
    "s=0\n",
    "m=60000\n",
    "for i in range(60000):\n",
    "    if(c[0][i]==int(y_train.T[0][i])):\n",
    "        s=s+1"
   ]
  },
  {
   "cell_type": "code",
   "execution_count": 277,
   "metadata": {},
   "outputs": [
    {
     "data": {
      "text/plain": [
       "53058"
      ]
     },
     "execution_count": 277,
     "metadata": {},
     "output_type": "execute_result"
    }
   ],
   "source": [
    "s"
   ]
  },
  {
   "cell_type": "code",
   "execution_count": 278,
   "metadata": {},
   "outputs": [
    {
     "data": {
      "text/plain": [
       "0.8843"
      ]
     },
     "execution_count": 278,
     "metadata": {},
     "output_type": "execute_result"
    }
   ],
   "source": [
    "s/m"
   ]
  },
  {
   "cell_type": "code",
   "execution_count": 279,
   "metadata": {},
   "outputs": [],
   "source": [
    "A2, cache = forward_propagation(x_test, parameters)"
   ]
  },
  {
   "cell_type": "code",
   "execution_count": 280,
   "metadata": {},
   "outputs": [],
   "source": [
    "for j in range(10):\n",
    "    for i in range(10000):\n",
    "        if(A2[j][i]>=0.5):\n",
    "            A2[j][i]=1\n",
    "        else:\n",
    "            A2[j][i]=0"
   ]
  },
  {
   "cell_type": "code",
   "execution_count": 281,
   "metadata": {},
   "outputs": [],
   "source": [
    "A2=A2.T\n",
    "c=np.zeros((1,10000))\n",
    "for i in range(10000):\n",
    "    c[0][i]=np.where(A2[i] == np.amax(A2[i]))[0][0]"
   ]
  },
  {
   "cell_type": "code",
   "execution_count": 282,
   "metadata": {
    "scrolled": true
   },
   "outputs": [
    {
     "data": {
      "text/plain": [
       "array([[7., 2., 1., ..., 4., 5., 6.]])"
      ]
     },
     "execution_count": 282,
     "metadata": {},
     "output_type": "execute_result"
    }
   ],
   "source": [
    "c"
   ]
  },
  {
   "cell_type": "code",
   "execution_count": 283,
   "metadata": {},
   "outputs": [
    {
     "data": {
      "text/plain": [
       "array([['7', '2', '1', ..., '4', '5', '6']], dtype=object)"
      ]
     },
     "execution_count": 283,
     "metadata": {},
     "output_type": "execute_result"
    }
   ],
   "source": [
    "y_test"
   ]
  },
  {
   "cell_type": "code",
   "execution_count": 284,
   "metadata": {},
   "outputs": [],
   "source": [
    "s=0\n",
    "m=10000\n",
    "for i in range(10000):\n",
    "    if(c[0][i]==int(y_test[0][i])):\n",
    "        s=s+1"
   ]
  },
  {
   "cell_type": "code",
   "execution_count": 286,
   "metadata": {},
   "outputs": [
    {
     "data": {
      "text/plain": [
       "8828"
      ]
     },
     "execution_count": 286,
     "metadata": {},
     "output_type": "execute_result"
    }
   ],
   "source": [
    "s"
   ]
  },
  {
   "cell_type": "code",
   "execution_count": 287,
   "metadata": {},
   "outputs": [
    {
     "data": {
      "text/plain": [
       "0.8828"
      ]
     },
     "execution_count": 287,
     "metadata": {},
     "output_type": "execute_result"
    }
   ],
   "source": [
    "s/m"
   ]
  },
  {
   "cell_type": "code",
   "execution_count": 329,
   "metadata": {},
   "outputs": [],
   "source": [
    "def model(mini_batches,learning_rate = 0.0007,beta = 0.9,beta1 = 0.9, beta2 = 0.999,  epsilon = 1e-8, num_iterations = 200,lambda_=1.2, print_cost = True):\n",
    "    \"\"\"\n",
    "    3-layer neural network model which can be run in different optimizer modes.\n",
    "    \n",
    "    Arguments:\n",
    "    X -- input data, of shape (2, number of examples)\n",
    "    Y -- true \"label\" vector (1 for blue dot / 0 for red dot), of shape (1, number of examples)\n",
    "    layers_dims -- python list, containing the size of each layer\n",
    "    learning_rate -- the learning rate, scalar.\n",
    "    mini_batch_size -- the size of a mini batch\n",
    "    beta -- Momentum hyperparameter\n",
    "    beta1 -- Exponential decay hyperparameter for the past gradients estimates \n",
    "    beta2 -- Exponential decay hyperparameter for the past squared gradients estimates \n",
    "    epsilon -- hyperparameter preventing division by zero in Adam updates\n",
    "    num_epochs -- number of epochs\n",
    "    print_cost -- True to print the cost every 1000 epochs\n",
    "\n",
    "    Returns:\n",
    "    parameters -- python dictionary containing your updated parameters \n",
    "    \"\"\"\n",
    "     #number of layers in the neural networks\n",
    "    costs = []                       # to keep track of the cost\n",
    "    t = 0                            # number of training examples\n",
    "    \n",
    "    # Initialize parameters\n",
    "    parameters = initialize_parameters(784, 800, 10)\n",
    "\n",
    "    # Initialize the optimizer\n",
    "    v, s = initialize_adam(parameters)\n",
    "    \n",
    "    # Optimization loop\n",
    "    for i in range(num_iterations):\n",
    "        \n",
    "        \n",
    "        cost_total = 0\n",
    "        \n",
    "        for j in range(120):\n",
    "            \n",
    "            mini_batch_x,mini_batch_y=mini_batches[j]\n",
    "            ### START CODE HERE ### (≈ 4 lines of code)\n",
    "            # Forward propagation. Inputs: \"X, parameters\". Outputs: \"A2, cache\".\n",
    "            X=mini_batch_x.T\n",
    "            y=mini_batch_y.T\n",
    "            Y=np.zeros((10,500))\n",
    "            for jj in range (10):\n",
    "                for ii in range(500):\n",
    "                    if(y[0][ii]==str(jj)):\n",
    "                        Y[jj][ii]=1\n",
    "\n",
    "\n",
    "            # Forward propagation\n",
    "            A2, caches = forward_propagation(X, parameters)\n",
    "\n",
    "            # Compute cost and add to the cost total\n",
    "            cost_total += compute_cost(A2, Y,parameters,lambda_)\n",
    "\n",
    "            # Backward propagation\n",
    "            grads = backward_propagation(parameters, caches, X, Y,lambda_)\n",
    "\n",
    "            # Update parameters\n",
    "            t = t + 1 # Adam counter\n",
    "            parameters, v, s = update_parameters_with_adam(parameters, grads, v, s,\n",
    "                                                               t, learning_rate, beta1, beta2,  epsilon)\n",
    "        cost_avg = cost_total / m\n",
    "        \n",
    "        # Print the cost every 1000 epoch\n",
    "        print (\"Cost after epoch %i: %f\" %(i, cost_avg))\n",
    "        if print_cost and i % 10 == 0:\n",
    "            costs.append(cost_avg)\n",
    "                \n",
    "    # plot the cost\n",
    "    plt.plot(costs)\n",
    "    plt.ylabel('cost')\n",
    "    plt.xlabel('epochs (per 100)')\n",
    "    plt.title(\"Learning rate = \" + str(learning_rate))\n",
    "    plt.show()\n",
    "\n",
    "    return parameters"
   ]
  },
  {
   "cell_type": "code",
   "execution_count": 330,
   "metadata": {},
   "outputs": [
    {
     "name": "stdout",
     "output_type": "stream",
     "text": [
      "Cost after epoch 0: 0.032251\n",
      "Cost after epoch 1: 0.012673\n",
      "Cost after epoch 2: 0.010317\n",
      "Cost after epoch 3: 0.009543\n",
      "Cost after epoch 4: 0.009049\n",
      "Cost after epoch 5: 0.008670\n",
      "Cost after epoch 6: 0.008365\n",
      "Cost after epoch 7: 0.008115\n",
      "Cost after epoch 8: 0.007906\n",
      "Cost after epoch 9: 0.007730\n",
      "Cost after epoch 10: 0.007581\n",
      "Cost after epoch 11: 0.007455\n",
      "Cost after epoch 12: 0.007347\n",
      "Cost after epoch 13: 0.007253\n",
      "Cost after epoch 14: 0.007172\n",
      "Cost after epoch 15: 0.007102\n",
      "Cost after epoch 16: 0.007041\n",
      "Cost after epoch 17: 0.006987\n",
      "Cost after epoch 18: 0.006940\n",
      "Cost after epoch 19: 0.006898\n",
      "Cost after epoch 20: 0.006861\n",
      "Cost after epoch 21: 0.006827\n",
      "Cost after epoch 22: 0.006797\n",
      "Cost after epoch 23: 0.006769\n",
      "Cost after epoch 24: 0.006744\n",
      "Cost after epoch 25: 0.006722\n",
      "Cost after epoch 26: 0.006701\n",
      "Cost after epoch 27: 0.006682\n",
      "Cost after epoch 28: 0.006664\n",
      "Cost after epoch 29: 0.006648\n",
      "Cost after epoch 30: 0.006633\n",
      "Cost after epoch 31: 0.006618\n",
      "Cost after epoch 32: 0.006605\n",
      "Cost after epoch 33: 0.006593\n",
      "Cost after epoch 34: 0.006581\n",
      "Cost after epoch 35: 0.006571\n",
      "Cost after epoch 36: 0.006560\n",
      "Cost after epoch 37: 0.006551\n",
      "Cost after epoch 38: 0.006542\n",
      "Cost after epoch 39: 0.006533\n",
      "Cost after epoch 40: 0.006525\n",
      "Cost after epoch 41: 0.006517\n",
      "Cost after epoch 42: 0.006510\n",
      "Cost after epoch 43: 0.006502\n",
      "Cost after epoch 44: 0.006496\n",
      "Cost after epoch 45: 0.006489\n",
      "Cost after epoch 46: 0.006483\n",
      "Cost after epoch 47: 0.006477\n",
      "Cost after epoch 48: 0.006471\n",
      "Cost after epoch 49: 0.006465\n",
      "Cost after epoch 50: 0.006460\n",
      "Cost after epoch 51: 0.006455\n",
      "Cost after epoch 52: 0.006450\n",
      "Cost after epoch 53: 0.006445\n",
      "Cost after epoch 54: 0.006440\n",
      "Cost after epoch 55: 0.006435\n",
      "Cost after epoch 56: 0.006431\n",
      "Cost after epoch 57: 0.006427\n",
      "Cost after epoch 58: 0.006422\n",
      "Cost after epoch 59: 0.006418\n",
      "Cost after epoch 60: 0.006414\n",
      "Cost after epoch 61: 0.006410\n",
      "Cost after epoch 62: 0.006407\n",
      "Cost after epoch 63: 0.006403\n",
      "Cost after epoch 64: 0.006399\n",
      "Cost after epoch 65: 0.006396\n",
      "Cost after epoch 66: 0.006393\n",
      "Cost after epoch 67: 0.006389\n",
      "Cost after epoch 68: 0.006386\n",
      "Cost after epoch 69: 0.006383\n",
      "Cost after epoch 70: 0.006380\n",
      "Cost after epoch 71: 0.006377\n",
      "Cost after epoch 72: 0.006375\n",
      "Cost after epoch 73: 0.006372\n",
      "Cost after epoch 74: 0.006369\n",
      "Cost after epoch 75: 0.006367\n",
      "Cost after epoch 76: 0.006364\n",
      "Cost after epoch 77: 0.006362\n",
      "Cost after epoch 78: 0.006360\n",
      "Cost after epoch 79: 0.006357\n",
      "Cost after epoch 80: 0.006355\n",
      "Cost after epoch 81: 0.006353\n",
      "Cost after epoch 82: 0.006351\n",
      "Cost after epoch 83: 0.006349\n",
      "Cost after epoch 84: 0.006347\n",
      "Cost after epoch 85: 0.006345\n",
      "Cost after epoch 86: 0.006343\n",
      "Cost after epoch 87: 0.006341\n",
      "Cost after epoch 88: 0.006340\n",
      "Cost after epoch 89: 0.006338\n",
      "Cost after epoch 90: 0.006336\n",
      "Cost after epoch 91: 0.006335\n",
      "Cost after epoch 92: 0.006333\n",
      "Cost after epoch 93: 0.006332\n",
      "Cost after epoch 94: 0.006330\n",
      "Cost after epoch 95: 0.006329\n",
      "Cost after epoch 96: 0.006328\n",
      "Cost after epoch 97: 0.006326\n",
      "Cost after epoch 98: 0.006325\n",
      "Cost after epoch 99: 0.006324\n",
      "Cost after epoch 100: 0.006322\n",
      "Cost after epoch 101: 0.006321\n",
      "Cost after epoch 102: 0.006320\n",
      "Cost after epoch 103: 0.006318\n",
      "Cost after epoch 104: 0.006317\n",
      "Cost after epoch 105: 0.006316\n",
      "Cost after epoch 106: 0.006315\n",
      "Cost after epoch 107: 0.006313\n",
      "Cost after epoch 108: 0.006312\n",
      "Cost after epoch 109: 0.006311\n",
      "Cost after epoch 110: 0.006310\n",
      "Cost after epoch 111: 0.006309\n",
      "Cost after epoch 112: 0.006307\n",
      "Cost after epoch 113: 0.006306\n",
      "Cost after epoch 114: 0.006305\n",
      "Cost after epoch 115: 0.006304\n",
      "Cost after epoch 116: 0.006302\n",
      "Cost after epoch 117: 0.006301\n",
      "Cost after epoch 118: 0.006300\n",
      "Cost after epoch 119: 0.006299\n",
      "Cost after epoch 120: 0.006298\n",
      "Cost after epoch 121: 0.006297\n",
      "Cost after epoch 122: 0.006296\n",
      "Cost after epoch 123: 0.006295\n",
      "Cost after epoch 124: 0.006294\n",
      "Cost after epoch 125: 0.006293\n",
      "Cost after epoch 126: 0.006292\n",
      "Cost after epoch 127: 0.006292\n",
      "Cost after epoch 128: 0.006291\n",
      "Cost after epoch 129: 0.006290\n",
      "Cost after epoch 130: 0.006289\n",
      "Cost after epoch 131: 0.006288\n",
      "Cost after epoch 132: 0.006288\n",
      "Cost after epoch 133: 0.006287\n",
      "Cost after epoch 134: 0.006286\n",
      "Cost after epoch 135: 0.006285\n",
      "Cost after epoch 136: 0.006285\n",
      "Cost after epoch 137: 0.006284\n",
      "Cost after epoch 138: 0.006283\n",
      "Cost after epoch 139: 0.006283\n",
      "Cost after epoch 140: 0.006282\n",
      "Cost after epoch 141: 0.006281\n",
      "Cost after epoch 142: 0.006281\n",
      "Cost after epoch 143: 0.006280\n",
      "Cost after epoch 144: 0.006280\n",
      "Cost after epoch 145: 0.006279\n",
      "Cost after epoch 146: 0.006278\n",
      "Cost after epoch 147: 0.006278\n",
      "Cost after epoch 148: 0.006277\n",
      "Cost after epoch 149: 0.006277\n",
      "Cost after epoch 150: 0.006276\n",
      "Cost after epoch 151: 0.006275\n",
      "Cost after epoch 152: 0.006275\n",
      "Cost after epoch 153: 0.006274\n",
      "Cost after epoch 154: 0.006274\n",
      "Cost after epoch 155: 0.006273\n",
      "Cost after epoch 156: 0.006273\n",
      "Cost after epoch 157: 0.006272\n",
      "Cost after epoch 158: 0.006272\n",
      "Cost after epoch 159: 0.006271\n",
      "Cost after epoch 160: 0.006271\n",
      "Cost after epoch 161: 0.006270\n",
      "Cost after epoch 162: 0.006270\n",
      "Cost after epoch 163: 0.006269\n",
      "Cost after epoch 164: 0.006269\n",
      "Cost after epoch 165: 0.006268\n",
      "Cost after epoch 166: 0.006268\n",
      "Cost after epoch 167: 0.006267\n",
      "Cost after epoch 168: 0.006267\n",
      "Cost after epoch 169: 0.006266\n",
      "Cost after epoch 170: 0.006266\n",
      "Cost after epoch 171: 0.006266\n",
      "Cost after epoch 172: 0.006265\n",
      "Cost after epoch 173: 0.006265\n",
      "Cost after epoch 174: 0.006265\n",
      "Cost after epoch 175: 0.006264\n",
      "Cost after epoch 176: 0.006264\n",
      "Cost after epoch 177: 0.006263\n",
      "Cost after epoch 178: 0.006263\n",
      "Cost after epoch 179: 0.006262\n",
      "Cost after epoch 180: 0.006262\n",
      "Cost after epoch 181: 0.006262\n",
      "Cost after epoch 182: 0.006262\n",
      "Cost after epoch 183: 0.006261\n",
      "Cost after epoch 184: 0.006260\n",
      "Cost after epoch 185: 0.006260\n",
      "Cost after epoch 186: 0.006259\n",
      "Cost after epoch 187: 0.006259\n",
      "Cost after epoch 188: 0.006259\n",
      "Cost after epoch 189: 0.006258\n",
      "Cost after epoch 190: 0.006258\n",
      "Cost after epoch 191: 0.006258\n",
      "Cost after epoch 192: 0.006257\n",
      "Cost after epoch 193: 0.006256\n",
      "Cost after epoch 194: 0.006256\n",
      "Cost after epoch 195: 0.006256\n",
      "Cost after epoch 196: 0.006255\n",
      "Cost after epoch 197: 0.006255\n",
      "Cost after epoch 198: 0.006255\n",
      "Cost after epoch 199: 0.006254\n"
     ]
    },
    {
     "data": {
      "image/png": "[encoded data removed]",
      "text/plain": [
       "<Figure size 432x288 with 1 Axes>"
      ]
     },
     "metadata": {
      "needs_background": "light"
     },
     "output_type": "display_data"
    }
   ],
   "source": [
    "parameters = model(mini_batches)"
   ]
  },
  {
   "cell_type": "code",
   "execution_count": 331,
   "metadata": {},
   "outputs": [],
   "source": [
    "A2, cache = forward_propagation(x_train.T, parameters)\n",
    "for j in range(10):\n",
    "    for i in range(60000):\n",
    "        if(A2[j][i]>=0.5):\n",
    "            A2[j][i]=1\n",
    "        else:\n",
    "            A2[j][i]=0\n"
   ]
  },
  {
   "cell_type": "code",
   "execution_count": 332,
   "metadata": {},
   "outputs": [],
   "source": [
    "A2=A2.T\n",
    "c=np.zeros((1,60000))\n",
    "for i in range(60000):\n",
    "    c[0][i]=np.where(A2[i] == np.amax(A2[i]))[0][0]\n",
    "s=0\n",
    "m=60000\n",
    "for i in range(60000):\n",
    "    if(c[0][i]==int(y_train.T[0][i])):\n",
    "        s=s+1"
   ]
  },
  {
   "cell_type": "code",
   "execution_count": 333,
   "metadata": {},
   "outputs": [
    {
     "data": {
      "text/plain": [
       "56424"
      ]
     },
     "execution_count": 333,
     "metadata": {},
     "output_type": "execute_result"
    }
   ],
   "source": [
    "s"
   ]
  },
  {
   "cell_type": "code",
   "execution_count": 334,
   "metadata": {},
   "outputs": [
    {
     "data": {
      "text/plain": [
       "60000"
      ]
     },
     "execution_count": 334,
     "metadata": {},
     "output_type": "execute_result"
    }
   ],
   "source": [
    "m"
   ]
  },
  {
   "cell_type": "code",
   "execution_count": 335,
   "metadata": {},
   "outputs": [
    {
     "data": {
      "text/plain": [
       "0.9404"
      ]
     },
     "execution_count": 335,
     "metadata": {},
     "output_type": "execute_result"
    }
   ],
   "source": [
    "s/m"
   ]
  },
  {
   "cell_type": "code",
   "execution_count": 336,
   "metadata": {},
   "outputs": [],
   "source": [
    "A2, cache = forward_propagation(x_test, parameters)\n",
    "for j in range(10):\n",
    "    for i in range(10000):\n",
    "        if(A2[j][i]>=0.5):\n",
    "            A2[j][i]=1\n",
    "        else:\n",
    "            A2[j][i]=0\n",
    "A2=A2.T\n",
    "c=np.zeros((1,10000))\n",
    "for i in range(10000):\n",
    "    c[0][i]=np.where(A2[i] == np.amax(A2[i]))[0][0]\n",
    "s=0\n",
    "m=10000\n",
    "for i in range(10000):\n",
    "    if(c[0][i]==int(y_test[0][i])):\n",
    "        s=s+1"
   ]
  },
  {
   "cell_type": "code",
   "execution_count": 337,
   "metadata": {},
   "outputs": [
    {
     "data": {
      "text/plain": [
       "9373"
      ]
     },
     "execution_count": 337,
     "metadata": {},
     "output_type": "execute_result"
    }
   ],
   "source": [
    "s"
   ]
  },
  {
   "cell_type": "code",
   "execution_count": 338,
   "metadata": {},
   "outputs": [
    {
     "data": {
      "text/plain": [
       "10000"
      ]
     },
     "execution_count": 338,
     "metadata": {},
     "output_type": "execute_result"
    }
   ],
   "source": [
    "m"
   ]
  },
  {
   "cell_type": "code",
   "execution_count": 339,
   "metadata": {},
   "outputs": [
    {
     "data": {
      "text/plain": [
       "0.9373"
      ]
     },
     "execution_count": 339,
     "metadata": {},
     "output_type": "execute_result"
    }
   ],
   "source": [
    "s/m"
   ]
  },
  {
   "cell_type": "code",
   "execution_count": null,
   "metadata": {},
   "outputs": [],
   "source": []
  },
  {
   "cell_type": "code",
   "execution_count": null,
   "metadata": {},
   "outputs": [],
   "source": []
  },
  {
   "cell_type": "code",
   "execution_count": null,
   "metadata": {},
   "outputs": [],
   "source": []
  },
  {
   "cell_type": "code",
   "execution_count": 341,
   "metadata": {},
   "outputs": [],
   "source": [
    "np.savetxt('f1/W1.txt',parameters['W1'])"
   ]
  },
  {
   "cell_type": "code",
   "execution_count": 342,
   "metadata": {},
   "outputs": [],
   "source": [
    "np.savetxt('f1/W2.txt',parameters['W2'])"
   ]
  },
  {
   "cell_type": "code",
   "execution_count": null,
   "metadata": {},
   "outputs": [],
   "source": []
  },
  {
   "cell_type": "code",
   "execution_count": 343,
   "metadata": {},
   "outputs": [],
   "source": [
    "np.savetxt('f1/b1.txt',parameters['b1'])"
   ]
  },
  {
   "cell_type": "code",
   "execution_count": 344,
   "metadata": {},
   "outputs": [],
   "source": [
    "np.savetxt('f1/b2.txt',parameters['b2'])"
   ]
  },
  {
   "cell_type": "code",
   "execution_count": 64,
   "metadata": {},
   "outputs": [],
   "source": []
  },
  {
   "cell_type": "code",
   "execution_count": 8,
   "metadata": {},
   "outputs": [],
   "source": [
    "parameters={}"
   ]
  },
  {
   "cell_type": "code",
   "execution_count": 19,
   "metadata": {},
   "outputs": [],
   "source": [
    "parameters['W1']=np.loadtxt('f1/W1.txt')"
   ]
  },
  {
   "cell_type": "code",
   "execution_count": 20,
   "metadata": {},
   "outputs": [],
   "source": [
    "parameters['W2']=np.loadtxt('f1/W2.txt')"
   ]
  },
  {
   "cell_type": "code",
   "execution_count": 21,
   "metadata": {},
   "outputs": [],
   "source": [
    "parameters['b2']=np.loadtxt('f1/b2.txt')"
   ]
  },
  {
   "cell_type": "code",
   "execution_count": 22,
   "metadata": {},
   "outputs": [],
   "source": [
    "parameters['b1']=np.loadtxt('f1/b1.txt')"
   ]
  },
  {
   "cell_type": "code",
   "execution_count": 23,
   "metadata": {},
   "outputs": [],
   "source": [
    "parameters['b2']=parameters['b2'].reshape((10,1))"
   ]
  },
  {
   "cell_type": "code",
   "execution_count": 25,
   "metadata": {},
   "outputs": [],
   "source": [
    "parameters['b1']=parameters['b1'].reshape((800,1))"
   ]
  },
  {
   "cell_type": "code",
   "execution_count": 257,
   "metadata": {},
   "outputs": [],
   "source": [
    "img1=Image.open('0.jpg')"
   ]
  },
  {
   "cell_type": "code",
   "execution_count": null,
   "metadata": {},
   "outputs": [],
   "source": []
  },
  {
   "cell_type": "code",
   "execution_count": null,
   "metadata": {},
   "outputs": [],
   "source": []
  },
  {
   "cell_type": "code",
   "execution_count": 258,
   "metadata": {},
   "outputs": [],
   "source": [
    "img=img1"
   ]
  },
  {
   "cell_type": "code",
   "execution_count": 259,
   "metadata": {
    "scrolled": true
   },
   "outputs": [
    {
     "data": {
      "image/png": "[encoded data removed]",
      "text/plain": [
       "<Figure size 432x288 with 1 Axes>"
      ]
     },
     "metadata": {
      "needs_background": "light"
     },
     "output_type": "display_data"
    }
   ],
   "source": [
    "img=img.convert('L')\n",
    "img=img.resize((28,28))\n",
    "\n",
    "img=np.array(img)\n",
    "img=255-img\n",
    "img=img/255\n",
    "plt.imshow(img,cmap='gray')\n",
    "X=np.zeros((1,784))\n",
    "for i in range(28):\n",
    "    for j in range(28):\n",
    "        X[0][i*28+j]=img[i][j]\n",
    "X=X.T\n",
    "A2,cache=forward_propagation(X,parameters)\n",
    "A2=A2.T\n",
    "c=np.where(A2[0] == np.amax(A2[0]))[0][0]"
   ]
  },
  {
   "cell_type": "code",
   "execution_count": 260,
   "metadata": {},
   "outputs": [
    {
     "data": {
      "text/plain": [
       "0"
      ]
     },
     "execution_count": 260,
     "metadata": {},
     "output_type": "execute_result"
    }
   ],
   "source": [
    "c"
   ]
  },
  {
   "cell_type": "code",
   "execution_count": 261,
   "metadata": {},
   "outputs": [
    {
     "data": {
      "text/plain": [
       "array([[5.70555838e-01, 3.94512458e-05, 1.03119623e-02, 2.47426252e-03,\n",
       "        5.82760190e-05, 1.06069486e-02, 1.45578106e-03, 3.16699953e-04,\n",
       "        8.87722667e-03, 5.54114510e-03]])"
      ]
     },
     "execution_count": 261,
     "metadata": {},
     "output_type": "execute_result"
    }
   ],
   "source": [
    "A2"
   ]
  },
  {
   "cell_type": "code",
   "execution_count": null,
   "metadata": {},
   "outputs": [],
   "source": []
  },
  {
   "cell_type": "code",
   "execution_count": null,
   "metadata": {},
   "outputs": [],
   "source": []
  },
  {
   "cell_type": "code",
   "execution_count": null,
   "metadata": {},
   "outputs": [],
   "source": []
  },
  {
   "cell_type": "code",
   "execution_count": null,
   "metadata": {},
   "outputs": [],
   "source": []
  },
  {
   "cell_type": "code",
   "execution_count": 86,
   "metadata": {},
   "outputs": [],
   "source": []
  },
  {
   "cell_type": "code",
   "execution_count": 87,
   "metadata": {},
   "outputs": [],
   "source": []
  },
  {
   "cell_type": "code",
   "execution_count": 88,
   "metadata": {},
   "outputs": [],
   "source": []
  },
  {
   "cell_type": "code",
   "execution_count": 89,
   "metadata": {},
   "outputs": [],
   "source": []
  },
  {
   "cell_type": "code",
   "execution_count": 90,
   "metadata": {},
   "outputs": [],
   "source": []
  },
  {
   "cell_type": "code",
   "execution_count": 91,
   "metadata": {},
   "outputs": [],
   "source": []
  },
  {
   "cell_type": "code",
   "execution_count": 93,
   "metadata": {},
   "outputs": [],
   "source": []
  },
  {
   "cell_type": "code",
   "execution_count": 94,
   "metadata": {},
   "outputs": [],
   "source": []
  },
  {
   "cell_type": "code",
   "execution_count": 96,
   "metadata": {},
   "outputs": [],
   "source": []
  },
  {
   "cell_type": "code",
   "execution_count": null,
   "metadata": {},
   "outputs": [],
   "source": []
  }
 ],
 "metadata": {
  "kernelspec": {
   "display_name": "Python 3",
   "language": "python",
   "name": "python3"
  },
  "language_info": {
   "codemirror_mode": {
    "name": "ipython",
    "version": 3
   },
   "file_extension": ".py",
   "mimetype": "text/x-python",
   "name": "python",
   "nbconvert_exporter": "python",
   "pygments_lexer": "ipython3",
   "version": "3.8.4"
  }
 },
 "nbformat": 4,
 "nbformat_minor": 4
}
